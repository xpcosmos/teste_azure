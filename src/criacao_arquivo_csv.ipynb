{
 "cells": [
  {
   "cell_type": "code",
   "execution_count": 1,
   "metadata": {},
   "outputs": [],
   "source": []
  },
  {
   "cell_type": "code",
   "execution_count": 6,
   "metadata": {},
   "outputs": [],
   "source": [
    "questoes = pd.read_csv(os.path.abspath(\"questoes.csv\")).drop(columns = ['Unnamed: 0'])"
   ]
  },
  {
   "cell_type": "code",
   "execution_count": 92,
   "metadata": {},
   "outputs": [
    {
     "data": {
      "text/plain": [
       "'O Azure App Service e os bancos de dados Azure SQL são exemplos de soluções Azure PaaS. Portanto, essa solução cumpre'"
      ]
     },
     "execution_count": 92,
     "metadata": {},
     "output_type": "execute_result"
    }
   ],
   "source": [
    "questoes_user_df.iloc[1, 8]"
   ]
  },
  {
   "cell_type": "code",
   "execution_count": 30,
   "metadata": {},
   "outputs": [
    {
     "data": {
      "text/plain": [
       "60"
      ]
     },
     "execution_count": 30,
     "metadata": {},
     "output_type": "execute_result"
    }
   ],
   "source": [
    "questoes_cloud = questoes.loc[questoes.tema == 'Conceitos em núvem'].sample(20)\n",
    "\n",
    "questoes_user_list = []\n",
    "for i, j in zip(questoes.tema.unique(), [15, 20,15,10]):\n",
    "    questoes_user_list.append(questoes.loc[questoes.tema == i].sample(j))\n",
    "\n",
    "questoes_user_df = pd.concat(questoes_user_list)\n",
    "\n",
    "questoes_user_df.shape[0]"
   ]
  },
  {
   "cell_type": "code",
   "execution_count": 11,
   "metadata": {},
   "outputs": [
    {
     "data": {
      "text/plain": [
       "['Sim', 'Não']"
      ]
     },
     "execution_count": 11,
     "metadata": {},
     "output_type": "execute_result"
    }
   ],
   "source": [
    "opcoes = []\n",
    "for i in questoes_user_df.iloc[1, 2:6]:\n",
    "    try:\n",
    "        if i[0] != \"NaN\":\n",
    "            opcoes.append(i)\n",
    "    except:\n",
    "        pass\n",
    "opcoes"
   ]
  },
  {
   "cell_type": "code",
   "execution_count": 28,
   "metadata": {},
   "outputs": [],
   "source": [
    "resultados = [0,1]*30"
   ]
  },
  {
   "cell_type": "code",
   "execution_count": 77,
   "metadata": {},
   "outputs": [
    {
     "data": {
      "text/plain": [
       "['A', 'B']"
      ]
     },
     "execution_count": 77,
     "metadata": {},
     "output_type": "execute_result"
    }
   ],
   "source": [
    "alternativas = ['A', 'B', 'C', 'D', 'E']\n",
    "alternativas[0:len(opcoes)]"
   ]
  },
  {
   "cell_type": "code",
   "execution_count": 12,
   "metadata": {},
   "outputs": [
    {
     "data": {
      "text/plain": [
       "Serviços do Azure                        20\n",
       "Conceitos em núvem                       15\n",
       "Segurança, privacidade e conformidade    15\n",
       "Preços e suporte do Azure                10\n",
       "Name: tema, dtype: int64"
      ]
     },
     "execution_count": 12,
     "metadata": {},
     "output_type": "execute_result"
    }
   ],
   "source": [
    "questoes_user_df.tema.value_counts()"
   ]
  },
  {
   "cell_type": "code",
   "execution_count": 69,
   "metadata": {},
   "outputs": [
    {
     "name": "stdout",
     "output_type": "stream",
     "text": [
      "Conceitos em núvem\n",
      "47.0%\n",
      "Serviços do Azure\n",
      "50.0%\n",
      "Segurança, privacidade e conformidade\n",
      "53.0%\n",
      "Preços e suporte do Azure\n",
      "50.0%\n"
     ]
    }
   ],
   "source": [
    "temas = questoes_user_df.iloc[:,9].reset_index(drop=True)\n",
    "resultado = pd.DataFrame({'acertos_binarios':resultados})\n",
    "resultado = pd.concat([temas, resultado], ignore_index=True, axis=1)\n",
    "resultado.columns = ['tema','acertou']\n",
    "\n",
    "for i in resultado['tema'].unique():\n",
    "\n",
    "    questoes_acertadas = resultado.loc[resultado['tema'] == i]['acertou'].sum()\n",
    "    n_questoes_totais = resultado.loc[resultado['tema'] == i]['tema'].value_counts()[0]\n",
    "    per_questoes_acertadas = round((questoes_acertadas/n_questoes_totais),2) * 100\n",
    "    print(f'{i}\\n{per_questoes_acertadas}%')"
   ]
  },
  {
   "cell_type": "code",
   "execution_count": 71,
   "metadata": {},
   "outputs": [],
   "source": [
    "enunciado =[]\n",
    "for i in questoes['enunciado']:\n",
    "    enunciado.append(i.strip())\n",
    "questoes['enunciado'] = enunciado"
   ]
  },
  {
   "cell_type": "code",
   "execution_count": 74,
   "metadata": {},
   "outputs": [],
   "source": [
    "questoes.to_csv(os.path.abspath('questoes.csv'), index=False)"
   ]
  },
  {
   "cell_type": "code",
   "execution_count": 75,
   "metadata": {},
   "outputs": [
    {
     "data": {
      "text/html": [
       "<div>\n",
       "<style scoped>\n",
       "    .dataframe tbody tr th:only-of-type {\n",
       "        vertical-align: middle;\n",
       "    }\n",
       "\n",
       "    .dataframe tbody tr th {\n",
       "        vertical-align: top;\n",
       "    }\n",
       "\n",
       "    .dataframe thead th {\n",
       "        text-align: right;\n",
       "    }\n",
       "</style>\n",
       "<table border=\"1\" class=\"dataframe\">\n",
       "  <thead>\n",
       "    <tr style=\"text-align: right;\">\n",
       "      <th></th>\n",
       "      <th>questao</th>\n",
       "      <th>enunciado</th>\n",
       "      <th>a</th>\n",
       "      <th>b</th>\n",
       "      <th>c</th>\n",
       "      <th>d</th>\n",
       "      <th>e</th>\n",
       "      <th>correta</th>\n",
       "      <th>explicacao</th>\n",
       "      <th>tema</th>\n",
       "    </tr>\n",
       "  </thead>\n",
       "  <tbody>\n",
       "    <tr>\n",
       "      <th>0</th>\n",
       "      <td>1</td>\n",
       "      <td>Você tem uma rede local que contém vários serv...</td>\n",
       "      <td>tolerância a falhas</td>\n",
       "      <td>elasticidade</td>\n",
       "      <td>escalabilidade</td>\n",
       "      <td>baixa latência</td>\n",
       "      <td>NaN</td>\n",
       "      <td>A</td>\n",
       "      <td>Tolerância a falhas é a capacidade de um siste...</td>\n",
       "      <td>Conceitos em núvem</td>\n",
       "    </tr>\n",
       "    <tr>\n",
       "      <th>1</th>\n",
       "      <td>2</td>\n",
       "      <td>Esta pergunta requer que você avalie o texto s...</td>\n",
       "      <td>Nenhuma mudança é necessária</td>\n",
       "      <td>em uma nuvem híbrida</td>\n",
       "      <td>na nuvem pública</td>\n",
       "      <td>em um Host Hyper-V</td>\n",
       "      <td>NaN</td>\n",
       "      <td>C</td>\n",
       "      <td>Uma nuvem privada está hospedada em seu datace...</td>\n",
       "      <td>Conceitos em núvem</td>\n",
       "    </tr>\n",
       "    <tr>\n",
       "      <th>2</th>\n",
       "      <td>3</td>\n",
       "      <td>Quais são as duas características da nuvem púb...</td>\n",
       "      <td>hardware dedicado</td>\n",
       "      <td>conexões inseguras</td>\n",
       "      <td>armazenamento limitado</td>\n",
       "      <td>preços medidos</td>\n",
       "      <td>gestão de autoatendimento</td>\n",
       "      <td>DE</td>\n",
       "      <td>Com a nuvem pública, você recebe preços pay-as...</td>\n",
       "      <td>Conceitos em núvem</td>\n",
       "    </tr>\n",
       "    <tr>\n",
       "      <th>3</th>\n",
       "      <td>4</td>\n",
       "      <td>Nota: Esta pergunta faz parte de uma série de ...</td>\n",
       "      <td>Sim</td>\n",
       "      <td>Não</td>\n",
       "      <td>NaN</td>\n",
       "      <td>NaN</td>\n",
       "      <td>NaN</td>\n",
       "      <td>A</td>\n",
       "      <td>O Azure App Service e os bancos de dados Azure...</td>\n",
       "      <td>Conceitos em núvem</td>\n",
       "    </tr>\n",
       "    <tr>\n",
       "      <th>4</th>\n",
       "      <td>5</td>\n",
       "      <td>Nota: Esta pergunta faz parte de uma série de ...</td>\n",
       "      <td>Sim</td>\n",
       "      <td>Não</td>\n",
       "      <td>NaN</td>\n",
       "      <td>NaN</td>\n",
       "      <td>NaN</td>\n",
       "      <td>B</td>\n",
       "      <td>O Azure App Service é um serviço PaaS (Platfor...</td>\n",
       "      <td>Conceitos em núvem</td>\n",
       "    </tr>\n",
       "  </tbody>\n",
       "</table>\n",
       "</div>"
      ],
      "text/plain": [
       "   questao                                          enunciado  \\\n",
       "0        1  Você tem uma rede local que contém vários serv...   \n",
       "1        2  Esta pergunta requer que você avalie o texto s...   \n",
       "2        3  Quais são as duas características da nuvem púb...   \n",
       "3        4  Nota: Esta pergunta faz parte de uma série de ...   \n",
       "4        5  Nota: Esta pergunta faz parte de uma série de ...   \n",
       "\n",
       "                              a                     b                       c  \\\n",
       "0           tolerância a falhas          elasticidade          escalabilidade   \n",
       "1  Nenhuma mudança é necessária  em uma nuvem híbrida        na nuvem pública   \n",
       "2             hardware dedicado    conexões inseguras  armazenamento limitado   \n",
       "3                           Sim                   Não                     NaN   \n",
       "4                           Sim                   Não                     NaN   \n",
       "\n",
       "                    d                          e correta  \\\n",
       "0      baixa latência                        NaN       A   \n",
       "1  em um Host Hyper-V                        NaN       C   \n",
       "2      preços medidos  gestão de autoatendimento      DE   \n",
       "3                 NaN                        NaN       A   \n",
       "4                 NaN                        NaN       B   \n",
       "\n",
       "                                          explicacao                tema  \n",
       "0  Tolerância a falhas é a capacidade de um siste...  Conceitos em núvem  \n",
       "1  Uma nuvem privada está hospedada em seu datace...  Conceitos em núvem  \n",
       "2  Com a nuvem pública, você recebe preços pay-as...  Conceitos em núvem  \n",
       "3  O Azure App Service e os bancos de dados Azure...  Conceitos em núvem  \n",
       "4  O Azure App Service é um serviço PaaS (Platfor...  Conceitos em núvem  "
      ]
     },
     "execution_count": 75,
     "metadata": {},
     "output_type": "execute_result"
    }
   ],
   "source": [
    "questoes.head()"
   ]
  },
  {
   "cell_type": "code",
   "execution_count": null,
   "metadata": {},
   "outputs": [],
   "source": []
  }
 ],
 "metadata": {
  "kernelspec": {
   "display_name": "Python 3.10.5 64-bit",
   "language": "python",
   "name": "python3"
  },
  "language_info": {
   "codemirror_mode": {
    "name": "ipython",
    "version": 3
   },
   "file_extension": ".py",
   "mimetype": "text/x-python",
   "name": "python",
   "nbconvert_exporter": "python",
   "pygments_lexer": "ipython3",
   "version": "3.10.5"
  },
  "orig_nbformat": 4,
  "vscode": {
   "interpreter": {
    "hash": "aee8b7b246df8f9039afb4144a1f6fd8d2ca17a180786b69acc140d282b71a49"
   }
  }
 },
 "nbformat": 4,
 "nbformat_minor": 2
}
