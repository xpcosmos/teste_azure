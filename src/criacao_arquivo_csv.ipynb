{
 "cells": [
  {
   "cell_type": "code",
   "execution_count": 1,
   "metadata": {},
   "outputs": [],
   "source": [
    "import pandas as pd\n",
    "import os"
   ]
  },
  {
   "cell_type": "code",
   "execution_count": 6,
   "metadata": {},
   "outputs": [],
   "source": [
    "questoes = pd.read_csv(os.path.abspath(\"questoes.csv\")).drop(columns = ['Unnamed: 0'])"
   ]
  },
  {
   "cell_type": "code",
   "execution_count": 92,
   "metadata": {},
   "outputs": [
    {
     "data": {
      "text/plain": [
       "'O Azure App Service e os bancos de dados Azure SQL são exemplos de soluções Azure PaaS. Portanto, essa solução cumpre'"
      ]
     },
     "execution_count": 92,
     "metadata": {},
     "output_type": "execute_result"
    }
   ],
   "source": [
    "questoes_user_df.iloc[1, 8]"
   ]
  },
  {
   "cell_type": "code",
   "execution_count": 30,
   "metadata": {},
   "outputs": [
    {
     "data": {
      "text/plain": [
       "60"
      ]
     },
     "execution_count": 30,
     "metadata": {},
     "output_type": "execute_result"
    }
   ],
   "source": [
    "questoes_cloud = questoes.loc[questoes.tema == 'Conceitos em núvem'].sample(20)\n",
    "\n",
    "questoes_user_list = []\n",
    "for i, j in zip(questoes.tema.unique(), [15, 20,15,10]):\n",
    "    questoes_user_list.append(questoes.loc[questoes.tema == i].sample(j))\n",
    "\n",
    "questoes_user_df = pd.concat(questoes_user_list)\n",
    "\n",
    "questoes_user_df.shape[0]"
   ]
  },
  {
   "cell_type": "code",
   "execution_count": 11,
   "metadata": {},
   "outputs": [
    {
     "data": {
      "text/plain": [
       "['Sim', 'Não']"
      ]
     },
     "execution_count": 11,
     "metadata": {},
     "output_type": "execute_result"
    }
   ],
   "source": [
    "opcoes = []\n",
    "for i in questoes_user_df.iloc[1, 2:6]:\n",
    "    try:\n",
    "        if i[0] != \"NaN\":\n",
    "            opcoes.append(i)\n",
    "    except:\n",
    "        pass\n",
    "opcoes"
   ]
  },
  {
   "cell_type": "code",
   "execution_count": 28,
   "metadata": {},
   "outputs": [],
   "source": [
    "resultados = [0,1]*30"
   ]
  },
  {
   "cell_type": "code",
   "execution_count": 77,
   "metadata": {},
   "outputs": [
    {
     "data": {
      "text/plain": [
       "['A', 'B']"
      ]
     },
     "execution_count": 77,
     "metadata": {},
     "output_type": "execute_result"
    }
   ],
   "source": [
    "alternativas = ['A', 'B', 'C', 'D', 'E']\n",
    "alternativas[0:len(opcoes)]"
   ]
  },
  {
   "cell_type": "code",
   "execution_count": 12,
   "metadata": {},
   "outputs": [
    {
     "data": {
      "text/plain": [
       "Serviços do Azure                        20\n",
       "Conceitos em núvem                       15\n",
       "Segurança, privacidade e conformidade    15\n",
       "Preços e suporte do Azure                10\n",
       "Name: tema, dtype: int64"
      ]
     },
     "execution_count": 12,
     "metadata": {},
     "output_type": "execute_result"
    }
   ],
   "source": [
    "questoes_user_df.tema.value_counts()"
   ]
  },
  {
   "cell_type": "code",
   "execution_count": 69,
   "metadata": {},
   "outputs": [
    {
     "name": "stdout",
     "output_type": "stream",
     "text": [
      "Conceitos em núvem\n",
      "47.0%\n",
      "Serviços do Azure\n",
      "50.0%\n",
      "Segurança, privacidade e conformidade\n",
      "53.0%\n",
      "Preços e suporte do Azure\n",
      "50.0%\n"
     ]
    }
   ],
   "source": [
    "temas = questoes_user_df.iloc[:,9].reset_index(drop=True)\n",
    "resultado = pd.DataFrame({'acertos_binarios':resultados})\n",
    "resultado = pd.concat([temas, resultado], ignore_index=True, axis=1)\n",
    "resultado.columns = ['tema','acertou']\n",
    "\n",
    "for i in resultado['tema'].unique():\n",
    "\n",
    "    questoes_acertadas = resultado.loc[resultado['tema'] == i]['acertou'].sum()\n",
    "    n_questoes_totais = resultado.loc[resultado['tema'] == i]['tema'].value_counts()[0]\n",
    "    per_questoes_acertadas = round((questoes_acertadas/n_questoes_totais),2) * 100\n",
    "    print(f'{i}\\n{per_questoes_acertadas}%')"
   ]
  },
  {
   "cell_type": "code",
   "execution_count": null,
   "metadata": {},
   "outputs": [],
   "source": []
  }
 ],
 "metadata": {
  "kernelspec": {
   "display_name": "Python 3.10.5 64-bit",
   "language": "python",
   "name": "python3"
  },
  "language_info": {
   "codemirror_mode": {
    "name": "ipython",
    "version": 3
   },
   "file_extension": ".py",
   "mimetype": "text/x-python",
   "name": "python",
   "nbconvert_exporter": "python",
   "pygments_lexer": "ipython3",
   "version": "3.10.5"
  },
  "orig_nbformat": 4,
  "vscode": {
   "interpreter": {
    "hash": "aee8b7b246df8f9039afb4144a1f6fd8d2ca17a180786b69acc140d282b71a49"
   }
  }
 },
 "nbformat": 4,
 "nbformat_minor": 2
}
