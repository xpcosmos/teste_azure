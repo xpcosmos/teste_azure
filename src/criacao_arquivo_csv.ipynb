{
 "cells": [
  {
   "cell_type": "code",
   "execution_count": 1,
   "metadata": {},
   "outputs": [],
   "source": [
    "import pandas as pd"
   ]
  },
  {
   "cell_type": "code",
   "execution_count": 4,
   "metadata": {},
   "outputs": [
    {
     "name": "stdout",
     "output_type": "stream",
     "text": [
      "Um administrador do Azure planeja executar um script PowerShell que cria recursos do Azure. Você precisa recomendar qual configuração do computador usar para executar o script. Solução: Execute o script a partir de um computador que executa Linux e tem as ferramentas Azure CLI instaladas. Isso atende ao objetivo?\n"
     ]
    }
   ],
   "source": [
    "errado = True\n",
    "if errado:\n",
    "    print('Um administrador do Azure planeja executar um script PowerShell que cria recursos do Azure. Você precisa recomendar qual configuração do computador usar para executar o script. Solução: Execute o script a partir de um computador que executa Linux e tem as ferramentas Azure CLI instaladas. Isso atende ao objetivo?')\n",
    "else: \n",
    "    print('Você acertou')"
   ]
  },
  {
   "cell_type": "code",
   "execution_count": 8,
   "metadata": {},
   "outputs": [],
   "source": [
    "pd.read_excel('/Users/mikeiasoliveira/Documents/Projetos/teste_azure/Pasta de trabalho 4.xlsx').to_csv('/Users/mikeiasoliveira/Documents/Projetos/teste_azure/src/questoes.csv', index=False)"
   ]
  },
  {
   "cell_type": "code",
   "execution_count": null,
   "metadata": {},
   "outputs": [],
   "source": []
  }
 ],
 "metadata": {
  "kernelspec": {
   "display_name": "Python 3.10.5 64-bit",
   "language": "python",
   "name": "python3"
  },
  "language_info": {
   "codemirror_mode": {
    "name": "ipython",
    "version": 3
   },
   "file_extension": ".py",
   "mimetype": "text/x-python",
   "name": "python",
   "nbconvert_exporter": "python",
   "pygments_lexer": "ipython3",
   "version": "3.10.5"
  },
  "orig_nbformat": 4,
  "vscode": {
   "interpreter": {
    "hash": "aee8b7b246df8f9039afb4144a1f6fd8d2ca17a180786b69acc140d282b71a49"
   }
  }
 },
 "nbformat": 4,
 "nbformat_minor": 2
}
