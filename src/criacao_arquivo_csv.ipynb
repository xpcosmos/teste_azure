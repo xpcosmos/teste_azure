{
 "cells": [
  {
   "cell_type": "code",
   "execution_count": 1,
   "metadata": {},
   "outputs": [],
   "source": [
    "import pandas as pd"
   ]
  },
  {
   "cell_type": "code",
   "execution_count": 92,
   "metadata": {},
   "outputs": [
    {
     "data": {
      "text/plain": [
       "'O Azure App Service e os bancos de dados Azure SQL são exemplos de soluções Azure PaaS. Portanto, essa solução cumpre'"
      ]
     },
     "execution_count": 92,
     "metadata": {},
     "output_type": "execute_result"
    }
   ],
   "source": [
    "questoes_user_df.iloc[1, 8]"
   ]
  },
  {
   "cell_type": "code",
   "execution_count": 49,
   "metadata": {},
   "outputs": [
    {
     "data": {
      "text/html": [
       "<div>\n",
       "<style scoped>\n",
       "    .dataframe tbody tr th:only-of-type {\n",
       "        vertical-align: middle;\n",
       "    }\n",
       "\n",
       "    .dataframe tbody tr th {\n",
       "        vertical-align: top;\n",
       "    }\n",
       "\n",
       "    .dataframe thead th {\n",
       "        text-align: right;\n",
       "    }\n",
       "</style>\n",
       "<table border=\"1\" class=\"dataframe\">\n",
       "  <thead>\n",
       "    <tr style=\"text-align: right;\">\n",
       "      <th></th>\n",
       "      <th>questao</th>\n",
       "      <th>enunciado</th>\n",
       "      <th>a</th>\n",
       "      <th>b</th>\n",
       "      <th>c</th>\n",
       "      <th>d</th>\n",
       "      <th>e</th>\n",
       "      <th>correta</th>\n",
       "      <th>explicacao</th>\n",
       "      <th>tema</th>\n",
       "    </tr>\n",
       "  </thead>\n",
       "  <tbody>\n",
       "    <tr>\n",
       "      <th>9</th>\n",
       "      <td>10</td>\n",
       "      <td>Você planeja migrar vários servidores de uma r...</td>\n",
       "      <td>A nuvem pública é propriedade do público, NÃO ...</td>\n",
       "      <td>A nuvem pública é uma solução de crowd-sourcin...</td>\n",
       "      <td>Todos os recursos públicos em nuvem podem ser ...</td>\n",
       "      <td>A nuvem pública é uma entidade compartilhada p...</td>\n",
       "      <td>NaN</td>\n",
       "      <td>D</td>\n",
       "      <td>A nuvem pública é uma entidade compartilhada p...</td>\n",
       "      <td>Conceitos em núvem</td>\n",
       "    </tr>\n",
       "    <tr>\n",
       "      <th>3</th>\n",
       "      <td>4</td>\n",
       "      <td>Nota: Esta pergunta faz parte de uma série de ...</td>\n",
       "      <td>Sim</td>\n",
       "      <td>Não</td>\n",
       "      <td>NaN</td>\n",
       "      <td>NaN</td>\n",
       "      <td>NaN</td>\n",
       "      <td>A</td>\n",
       "      <td>O Azure App Service e os bancos de dados Azure...</td>\n",
       "      <td>Conceitos em núvem</td>\n",
       "    </tr>\n",
       "    <tr>\n",
       "      <th>1</th>\n",
       "      <td>2</td>\n",
       "      <td>Esta pergunta requer que você avalie o texto s...</td>\n",
       "      <td>Nenhuma mudança é necessária</td>\n",
       "      <td>em uma nuvem híbrida</td>\n",
       "      <td>na nuvem pública</td>\n",
       "      <td>em um Host Hyper-V</td>\n",
       "      <td>NaN</td>\n",
       "      <td>C</td>\n",
       "      <td>Uma nuvem privada está hospedada em seu datace...</td>\n",
       "      <td>Conceitos em núvem</td>\n",
       "    </tr>\n",
       "    <tr>\n",
       "      <th>15</th>\n",
       "      <td>16</td>\n",
       "      <td>Você planeja prover recursos de Infraestrutura...</td>\n",
       "      <td>um aplicativo web do Azure</td>\n",
       "      <td>uma máquina virtual Azure</td>\n",
       "      <td>um aplicativo de lógica Azure</td>\n",
       "      <td>um banco de dados Azure SQL</td>\n",
       "      <td>NaN</td>\n",
       "      <td>B</td>\n",
       "      <td>Uma máquina virtual do Azure é um exemplo de I...</td>\n",
       "      <td>Conceitos em núvem</td>\n",
       "    </tr>\n",
       "    <tr>\n",
       "      <th>17</th>\n",
       "      <td>18</td>\n",
       "      <td>Você planeja implantar várias máquinas virtuai...</td>\n",
       "      <td>Sim</td>\n",
       "      <td>Não</td>\n",
       "      <td>NaN</td>\n",
       "      <td>NaN</td>\n",
       "      <td>NaN</td>\n",
       "      <td>B</td>\n",
       "      <td>Um grupo de recursos é um contêiner lógico par...</td>\n",
       "      <td>Conceitos em núvem</td>\n",
       "    </tr>\n",
       "  </tbody>\n",
       "</table>\n",
       "</div>"
      ],
      "text/plain": [
       "    questao                                          enunciado  \\\n",
       "9        10  Você planeja migrar vários servidores de uma r...   \n",
       "3         4  Nota: Esta pergunta faz parte de uma série de ...   \n",
       "1         2  Esta pergunta requer que você avalie o texto s...   \n",
       "15       16  Você planeja prover recursos de Infraestrutura...   \n",
       "17       18  Você planeja implantar várias máquinas virtuai...   \n",
       "\n",
       "                                                    a  \\\n",
       "9   A nuvem pública é propriedade do público, NÃO ...   \n",
       "3                                                 Sim   \n",
       "1                        Nenhuma mudança é necessária   \n",
       "15                         um aplicativo web do Azure   \n",
       "17                                                Sim   \n",
       "\n",
       "                                                    b  \\\n",
       "9   A nuvem pública é uma solução de crowd-sourcin...   \n",
       "3                                                 Não   \n",
       "1                                em uma nuvem híbrida   \n",
       "15                          uma máquina virtual Azure   \n",
       "17                                                Não   \n",
       "\n",
       "                                                    c  \\\n",
       "9   Todos os recursos públicos em nuvem podem ser ...   \n",
       "3                                                 NaN   \n",
       "1                                    na nuvem pública   \n",
       "15                      um aplicativo de lógica Azure   \n",
       "17                                                NaN   \n",
       "\n",
       "                                                    d    e correta  \\\n",
       "9   A nuvem pública é uma entidade compartilhada p...  NaN       D   \n",
       "3                                                 NaN  NaN       A   \n",
       "1                                  em um Host Hyper-V  NaN       C   \n",
       "15                        um banco de dados Azure SQL  NaN       B   \n",
       "17                                                NaN  NaN       B   \n",
       "\n",
       "                                           explicacao                tema  \n",
       "9   A nuvem pública é uma entidade compartilhada p...  Conceitos em núvem  \n",
       "3   O Azure App Service e os bancos de dados Azure...  Conceitos em núvem  \n",
       "1   Uma nuvem privada está hospedada em seu datace...  Conceitos em núvem  \n",
       "15  Uma máquina virtual do Azure é um exemplo de I...  Conceitos em núvem  \n",
       "17  Um grupo de recursos é um contêiner lógico par...  Conceitos em núvem  "
      ]
     },
     "execution_count": 49,
     "metadata": {},
     "output_type": "execute_result"
    }
   ],
   "source": [
    "questoes_user_df.head()"
   ]
  },
  {
   "cell_type": "code",
   "execution_count": null,
   "metadata": {},
   "outputs": [],
   "source": [
    "questoes_cloud = questoes.loc[questoes.tema == 'Conceitos em núvem'].sample(20)\n",
    "\n",
    "questoes_user_list = []\n",
    "for i, j in zip(questoes.tema.unique(), [15, 20,15,10]):\n",
    "    questoes_user_list.append(questoes.loc[questoes.tema == i].sample(j))\n",
    "\n",
    "questoes_user_df = pd.concat(questoes_user_list)\n",
    "\n",
    "questoes_user_df"
   ]
  },
  {
   "cell_type": "code",
   "execution_count": 90,
   "metadata": {},
   "outputs": [
    {
     "data": {
      "text/plain": [
       "1"
      ]
     },
     "execution_count": 90,
     "metadata": {},
     "output_type": "execute_result"
    }
   ],
   "source": [
    "len(questoes_user_df.iloc[1, 7])"
   ]
  },
  {
   "cell_type": "code",
   "execution_count": 89,
   "metadata": {},
   "outputs": [
    {
     "data": {
      "text/plain": [
       "'A'"
      ]
     },
     "execution_count": 89,
     "metadata": {},
     "output_type": "execute_result"
    }
   ],
   "source": [
    "questoes_user_df.iloc[1, 7]"
   ]
  },
  {
   "cell_type": "code",
   "execution_count": 76,
   "metadata": {},
   "outputs": [],
   "source": [
    "opcoes = []\n",
    "for i in questoes_user_df.iloc[1, 2:6]:\n",
    "    try:\n",
    "        if i[0] != \"NaN\":\n",
    "            opcoes.append(i)\n",
    "    except:\n",
    "        pass"
   ]
  },
  {
   "cell_type": "code",
   "execution_count": 77,
   "metadata": {},
   "outputs": [
    {
     "data": {
      "text/plain": [
       "['A', 'B']"
      ]
     },
     "execution_count": 77,
     "metadata": {},
     "output_type": "execute_result"
    }
   ],
   "source": [
    "alternativas = ['A', 'B', 'C', 'D', 'E']\n",
    "alternativas[0:len(opcoes)]"
   ]
  },
  {
   "cell_type": "code",
   "execution_count": 85,
   "metadata": {},
   "outputs": [
    {
     "data": {
      "text/plain": [
       "'/Users/mikeiasoliveira/Documents/Projetos/teste_azure/src/src/questoes.csv'"
      ]
     },
     "execution_count": 85,
     "metadata": {},
     "output_type": "execute_result"
    }
   ],
   "source": [
    "os.path.abspath(\"src/questoes.csv\")"
   ]
  },
  {
   "cell_type": "code",
   "execution_count": null,
   "metadata": {},
   "outputs": [],
   "source": [
    "src/teste.py"
   ]
  }
 ],
 "metadata": {
  "kernelspec": {
   "display_name": "Python 3.10.5 64-bit",
   "language": "python",
   "name": "python3"
  },
  "language_info": {
   "codemirror_mode": {
    "name": "ipython",
    "version": 3
   },
   "file_extension": ".py",
   "mimetype": "text/x-python",
   "name": "python",
   "nbconvert_exporter": "python",
   "pygments_lexer": "ipython3",
   "version": "3.10.5"
  },
  "orig_nbformat": 4,
  "vscode": {
   "interpreter": {
    "hash": "aee8b7b246df8f9039afb4144a1f6fd8d2ca17a180786b69acc140d282b71a49"
   }
  }
 },
 "nbformat": 4,
 "nbformat_minor": 2
}
