{
 "cells": [
  {
   "cell_type": "code",
   "execution_count": 1,
   "metadata": {},
   "outputs": [],
   "source": [
    "import pandas as pd\n",
    "import os"
   ]
  },
  {
   "cell_type": "code",
   "execution_count": 6,
   "metadata": {},
   "outputs": [],
   "source": [
    "questoes = pd.read_csv(os.path.abspath(\"questoes.csv\")).drop(columns = ['Unnamed: 0'])"
   ]
  },
  {
   "cell_type": "code",
   "execution_count": 92,
   "metadata": {},
   "outputs": [
    {
     "data": {
      "text/plain": [
       "'O Azure App Service e os bancos de dados Azure SQL são exemplos de soluções Azure PaaS. Portanto, essa solução cumpre'"
      ]
     },
     "execution_count": 92,
     "metadata": {},
     "output_type": "execute_result"
    }
   ],
   "source": [
    "questoes_user_df.iloc[1, 8]"
   ]
  },
  {
   "cell_type": "code",
   "execution_count": 30,
   "metadata": {},
   "outputs": [
    {
     "data": {
      "text/plain": [
       "60"
      ]
     },
     "execution_count": 30,
     "metadata": {},
     "output_type": "execute_result"
    }
   ],
   "source": [
    "questoes_cloud = questoes.loc[questoes.tema == 'Conceitos em núvem'].sample(20)\n",
    "\n",
    "questoes_user_list = []\n",
    "for i, j in zip(questoes.tema.unique(), [15, 20,15,10]):\n",
    "    questoes_user_list.append(questoes.loc[questoes.tema == i].sample(j))\n",
    "\n",
    "questoes_user_df = pd.concat(questoes_user_list)\n",
    "\n",
    "questoes_user_df.shape[0]"
   ]
  },
  {
   "cell_type": "code",
   "execution_count": 11,
   "metadata": {},
   "outputs": [
    {
     "data": {
      "text/plain": [
       "['Sim', 'Não']"
      ]
     },
     "execution_count": 11,
     "metadata": {},
     "output_type": "execute_result"
    }
   ],
   "source": [
    "opcoes = []\n",
    "for i in questoes_user_df.iloc[1, 2:6]:\n",
    "    try:\n",
    "        if i[0] != \"NaN\":\n",
    "            opcoes.append(i)\n",
    "    except:\n",
    "        pass\n",
    "opcoes"
   ]
  },
  {
   "cell_type": "code",
   "execution_count": 28,
   "metadata": {},
   "outputs": [],
   "source": [
    "resultados = [0,1]*30"
   ]
  },
  {
   "cell_type": "code",
   "execution_count": 77,
   "metadata": {},
   "outputs": [
    {
     "data": {
      "text/plain": [
       "['A', 'B']"
      ]
     },
     "execution_count": 77,
     "metadata": {},
     "output_type": "execute_result"
    }
   ],
   "source": [
    "alternativas = ['A', 'B', 'C', 'D', 'E']\n",
    "alternativas[0:len(opcoes)]"
   ]
  },
  {
   "cell_type": "code",
   "execution_count": 12,
   "metadata": {},
   "outputs": [
    {
     "data": {
      "text/plain": [
       "Serviços do Azure                        20\n",
       "Conceitos em núvem                       15\n",
       "Segurança, privacidade e conformidade    15\n",
       "Preços e suporte do Azure                10\n",
       "Name: tema, dtype: int64"
      ]
     },
     "execution_count": 12,
     "metadata": {},
     "output_type": "execute_result"
    }
   ],
   "source": [
    "questoes_user_df.tema.value_counts()"
   ]
  },
  {
   "cell_type": "code",
   "execution_count": 69,
   "metadata": {},
   "outputs": [
    {
     "name": "stdout",
     "output_type": "stream",
     "text": [
      "Conceitos em núvem\n",
      "47.0%\n",
      "Serviços do Azure\n",
      "50.0%\n",
      "Segurança, privacidade e conformidade\n",
      "53.0%\n",
      "Preços e suporte do Azure\n",
      "50.0%\n"
     ]
    }
   ],
   "source": [
    "temas = questoes_user_df.iloc[:,9].reset_index(drop=True)\n",
    "resultado = pd.DataFrame({'acertos_binarios':resultados})\n",
    "resultado = pd.concat([temas, resultado], ignore_index=True, axis=1)\n",
    "resultado.columns = ['tema','acertou']\n",
    "\n",
    "for i in resultado['tema'].unique():\n",
    "\n",
    "    questoes_acertadas = resultado.loc[resultado['tema'] == i]['acertou'].sum()\n",
    "    n_questoes_totais = resultado.loc[resultado['tema'] == i]['tema'].value_counts()[0]\n",
    "    per_questoes_acertadas = round((questoes_acertadas/n_questoes_totais),2) * 100\n",
    "    print(f'{i}\\n{per_questoes_acertadas}%')"
   ]
  },
  {
   "cell_type": "code",
   "execution_count": 71,
   "metadata": {},
   "outputs": [],
   "source": [
    "enunciado =[]\n",
    "for i in questoes['enunciado']:\n",
    "    enunciado.append(i.strip())\n",
    "questoes['enunciado'] = enunciado"
   ]
  },
  {
   "cell_type": "code",
   "execution_count": 72,
   "metadata": {},
   "outputs": [
    {
     "data": {
      "text/html": [
       "<div>\n",
       "<style scoped>\n",
       "    .dataframe tbody tr th:only-of-type {\n",
       "        vertical-align: middle;\n",
       "    }\n",
       "\n",
       "    .dataframe tbody tr th {\n",
       "        vertical-align: top;\n",
       "    }\n",
       "\n",
       "    .dataframe thead th {\n",
       "        text-align: right;\n",
       "    }\n",
       "</style>\n",
       "<table border=\"1\" class=\"dataframe\">\n",
       "  <thead>\n",
       "    <tr style=\"text-align: right;\">\n",
       "      <th></th>\n",
       "      <th>questao</th>\n",
       "      <th>enunciado</th>\n",
       "      <th>a</th>\n",
       "      <th>b</th>\n",
       "      <th>c</th>\n",
       "      <th>d</th>\n",
       "      <th>e</th>\n",
       "      <th>correta</th>\n",
       "      <th>explicacao</th>\n",
       "      <th>tema</th>\n",
       "    </tr>\n",
       "  </thead>\n",
       "  <tbody>\n",
       "    <tr>\n",
       "      <th>0</th>\n",
       "      <td>1</td>\n",
       "      <td>Você tem uma rede local que contém vários serv...</td>\n",
       "      <td>tolerância a falhas</td>\n",
       "      <td>elasticidade</td>\n",
       "      <td>escalabilidade</td>\n",
       "      <td>baixa latência</td>\n",
       "      <td>NaN</td>\n",
       "      <td>A</td>\n",
       "      <td>Tolerância a falhas é a capacidade de um siste...</td>\n",
       "      <td>Conceitos em núvem</td>\n",
       "    </tr>\n",
       "    <tr>\n",
       "      <th>1</th>\n",
       "      <td>2</td>\n",
       "      <td>Esta pergunta requer que você avalie o texto s...</td>\n",
       "      <td>Nenhuma mudança é necessária</td>\n",
       "      <td>em uma nuvem híbrida</td>\n",
       "      <td>na nuvem pública</td>\n",
       "      <td>em um Host Hyper-V</td>\n",
       "      <td>NaN</td>\n",
       "      <td>C</td>\n",
       "      <td>Uma nuvem privada está hospedada em seu datace...</td>\n",
       "      <td>Conceitos em núvem</td>\n",
       "    </tr>\n",
       "    <tr>\n",
       "      <th>2</th>\n",
       "      <td>3</td>\n",
       "      <td>Quais são as duas características da nuvem púb...</td>\n",
       "      <td>hardware dedicado</td>\n",
       "      <td>conexões inseguras</td>\n",
       "      <td>armazenamento limitado</td>\n",
       "      <td>preços medidos</td>\n",
       "      <td>gestão de autoatendimento</td>\n",
       "      <td>DE</td>\n",
       "      <td>Com a nuvem pública, você recebe preços pay-as...</td>\n",
       "      <td>Conceitos em núvem</td>\n",
       "    </tr>\n",
       "    <tr>\n",
       "      <th>3</th>\n",
       "      <td>4</td>\n",
       "      <td>Nota: Esta pergunta faz parte de uma série de ...</td>\n",
       "      <td>Sim</td>\n",
       "      <td>Não</td>\n",
       "      <td>NaN</td>\n",
       "      <td>NaN</td>\n",
       "      <td>NaN</td>\n",
       "      <td>A</td>\n",
       "      <td>O Azure App Service e os bancos de dados Azure...</td>\n",
       "      <td>Conceitos em núvem</td>\n",
       "    </tr>\n",
       "    <tr>\n",
       "      <th>4</th>\n",
       "      <td>5</td>\n",
       "      <td>Nota: Esta pergunta faz parte de uma série de ...</td>\n",
       "      <td>Sim</td>\n",
       "      <td>Não</td>\n",
       "      <td>NaN</td>\n",
       "      <td>NaN</td>\n",
       "      <td>NaN</td>\n",
       "      <td>B</td>\n",
       "      <td>O Azure App Service é um serviço PaaS (Platfor...</td>\n",
       "      <td>Conceitos em núvem</td>\n",
       "    </tr>\n",
       "    <tr>\n",
       "      <th>...</th>\n",
       "      <td>...</td>\n",
       "      <td>...</td>\n",
       "      <td>...</td>\n",
       "      <td>...</td>\n",
       "      <td>...</td>\n",
       "      <td>...</td>\n",
       "      <td>...</td>\n",
       "      <td>...</td>\n",
       "      <td>...</td>\n",
       "      <td>...</td>\n",
       "    </tr>\n",
       "    <tr>\n",
       "      <th>104</th>\n",
       "      <td>105</td>\n",
       "      <td>Sua conta de avaliação do Azure expirou na sem...</td>\n",
       "      <td>Nenhuma mudança é necessária</td>\n",
       "      <td>iniciar uma máquina virtual Azure existente</td>\n",
       "      <td>acesse seus dados armazenados no Azure</td>\n",
       "      <td>acessar o portal do Azure</td>\n",
       "      <td>NaN</td>\n",
       "      <td>B</td>\n",
       "      <td>Uma VM interrompida (desalocada) está offline ...</td>\n",
       "      <td>Preços e suporte do Azure</td>\n",
       "    </tr>\n",
       "    <tr>\n",
       "      <th>105</th>\n",
       "      <td>106</td>\n",
       "      <td>Sua empresa planeja comprar uma assinatura do ...</td>\n",
       "      <td>Sim</td>\n",
       "      <td>Não</td>\n",
       "      <td>NaN</td>\n",
       "      <td>NaN</td>\n",
       "      <td>NaN</td>\n",
       "      <td>A</td>\n",
       "      <td>O plano básico de suporte não tem nenhum supor...</td>\n",
       "      <td>Preços e suporte do Azure</td>\n",
       "    </tr>\n",
       "    <tr>\n",
       "      <th>106</th>\n",
       "      <td>107</td>\n",
       "      <td>Sua empresa tem 10 departamentos. A empresa pl...</td>\n",
       "      <td>uma reserva</td>\n",
       "      <td>uma assinatura</td>\n",
       "      <td>um grupo de recursos</td>\n",
       "      <td>uma instância de contêiner</td>\n",
       "      <td>NaN</td>\n",
       "      <td>B</td>\n",
       "      <td>Existem diferentes opções de pagamento no Azur...</td>\n",
       "      <td>Preços e suporte do Azure</td>\n",
       "    </tr>\n",
       "    <tr>\n",
       "      <th>107</th>\n",
       "      <td>108</td>\n",
       "      <td>Qual declaração descreve com precisão a Políti...</td>\n",
       "      <td>Microsoft oferece suporte mainstream para um s...</td>\n",
       "      <td>Microsoft fornece um aviso mínimo de 12 meses ...</td>\n",
       "      <td>Depois que um serviço é disponibilizado, geral...</td>\n",
       "      <td>Quando um serviço é aposentado, você pode comp...</td>\n",
       "      <td>NaN</td>\n",
       "      <td>B</td>\n",
       "      <td>Para produtos regidos pela Política de Ciclo d...</td>\n",
       "      <td>Preços e suporte do Azure</td>\n",
       "    </tr>\n",
       "    <tr>\n",
       "      <th>108</th>\n",
       "      <td>109</td>\n",
       "      <td>Esta pergunta requer que você avalie o texto s...</td>\n",
       "      <td>Nenhuma mudança é necessária.</td>\n",
       "      <td>Controle de acesso (IAM)</td>\n",
       "      <td>Alertas orçamentários</td>\n",
       "      <td>conformidade</td>\n",
       "      <td>NaN</td>\n",
       "      <td>C</td>\n",
       "      <td>Os alertas orçamentários notificam quando os g...</td>\n",
       "      <td>Preços e suporte do Azure</td>\n",
       "    </tr>\n",
       "  </tbody>\n",
       "</table>\n",
       "<p>109 rows × 10 columns</p>\n",
       "</div>"
      ],
      "text/plain": [
       "     questao                                          enunciado  \\\n",
       "0          1  Você tem uma rede local que contém vários serv...   \n",
       "1          2  Esta pergunta requer que você avalie o texto s...   \n",
       "2          3  Quais são as duas características da nuvem púb...   \n",
       "3          4  Nota: Esta pergunta faz parte de uma série de ...   \n",
       "4          5  Nota: Esta pergunta faz parte de uma série de ...   \n",
       "..       ...                                                ...   \n",
       "104      105  Sua conta de avaliação do Azure expirou na sem...   \n",
       "105      106  Sua empresa planeja comprar uma assinatura do ...   \n",
       "106      107  Sua empresa tem 10 departamentos. A empresa pl...   \n",
       "107      108  Qual declaração descreve com precisão a Políti...   \n",
       "108      109  Esta pergunta requer que você avalie o texto s...   \n",
       "\n",
       "                                                     a  \\\n",
       "0                                  tolerância a falhas   \n",
       "1                         Nenhuma mudança é necessária   \n",
       "2                                    hardware dedicado   \n",
       "3                                                  Sim   \n",
       "4                                                  Sim   \n",
       "..                                                 ...   \n",
       "104                       Nenhuma mudança é necessária   \n",
       "105                                                Sim   \n",
       "106                                        uma reserva   \n",
       "107  Microsoft oferece suporte mainstream para um s...   \n",
       "108                      Nenhuma mudança é necessária.   \n",
       "\n",
       "                                                     b  \\\n",
       "0                                         elasticidade   \n",
       "1                                 em uma nuvem híbrida   \n",
       "2                                   conexões inseguras   \n",
       "3                                                  Não   \n",
       "4                                                  Não   \n",
       "..                                                 ...   \n",
       "104        iniciar uma máquina virtual Azure existente   \n",
       "105                                                Não   \n",
       "106                                     uma assinatura   \n",
       "107  Microsoft fornece um aviso mínimo de 12 meses ...   \n",
       "108                           Controle de acesso (IAM)   \n",
       "\n",
       "                                                     c  \\\n",
       "0                                       escalabilidade   \n",
       "1                                     na nuvem pública   \n",
       "2                               armazenamento limitado   \n",
       "3                                                  NaN   \n",
       "4                                                  NaN   \n",
       "..                                                 ...   \n",
       "104             acesse seus dados armazenados no Azure   \n",
       "105                                                NaN   \n",
       "106                               um grupo de recursos   \n",
       "107  Depois que um serviço é disponibilizado, geral...   \n",
       "108                              Alertas orçamentários   \n",
       "\n",
       "                                                     d  \\\n",
       "0                                       baixa latência   \n",
       "1                                   em um Host Hyper-V   \n",
       "2                                       preços medidos   \n",
       "3                                                  NaN   \n",
       "4                                                  NaN   \n",
       "..                                                 ...   \n",
       "104                          acessar o portal do Azure   \n",
       "105                                                NaN   \n",
       "106                         uma instância de contêiner   \n",
       "107  Quando um serviço é aposentado, você pode comp...   \n",
       "108                                       conformidade   \n",
       "\n",
       "                             e correta  \\\n",
       "0                          NaN       A   \n",
       "1                          NaN       C   \n",
       "2    gestão de autoatendimento      DE   \n",
       "3                          NaN       A   \n",
       "4                          NaN       B   \n",
       "..                         ...     ...   \n",
       "104                        NaN       B   \n",
       "105                        NaN       A   \n",
       "106                        NaN       B   \n",
       "107                        NaN       B   \n",
       "108                        NaN       C   \n",
       "\n",
       "                                            explicacao  \\\n",
       "0    Tolerância a falhas é a capacidade de um siste...   \n",
       "1    Uma nuvem privada está hospedada em seu datace...   \n",
       "2    Com a nuvem pública, você recebe preços pay-as...   \n",
       "3    O Azure App Service e os bancos de dados Azure...   \n",
       "4    O Azure App Service é um serviço PaaS (Platfor...   \n",
       "..                                                 ...   \n",
       "104  Uma VM interrompida (desalocada) está offline ...   \n",
       "105  O plano básico de suporte não tem nenhum supor...   \n",
       "106  Existem diferentes opções de pagamento no Azur...   \n",
       "107  Para produtos regidos pela Política de Ciclo d...   \n",
       "108  Os alertas orçamentários notificam quando os g...   \n",
       "\n",
       "                          tema  \n",
       "0           Conceitos em núvem  \n",
       "1           Conceitos em núvem  \n",
       "2           Conceitos em núvem  \n",
       "3           Conceitos em núvem  \n",
       "4           Conceitos em núvem  \n",
       "..                         ...  \n",
       "104  Preços e suporte do Azure  \n",
       "105  Preços e suporte do Azure  \n",
       "106  Preços e suporte do Azure  \n",
       "107  Preços e suporte do Azure  \n",
       "108  Preços e suporte do Azure  \n",
       "\n",
       "[109 rows x 10 columns]"
      ]
     },
     "execution_count": 72,
     "metadata": {},
     "output_type": "execute_result"
    }
   ],
   "source": [
    "questoes.to_csv()"
   ]
  },
  {
   "cell_type": "code",
   "execution_count": null,
   "metadata": {},
   "outputs": [],
   "source": []
  }
 ],
 "metadata": {
  "kernelspec": {
   "display_name": "Python 3.10.5 64-bit",
   "language": "python",
   "name": "python3"
  },
  "language_info": {
   "codemirror_mode": {
    "name": "ipython",
    "version": 3
   },
   "file_extension": ".py",
   "mimetype": "text/x-python",
   "name": "python",
   "nbconvert_exporter": "python",
   "pygments_lexer": "ipython3",
   "version": "3.10.5"
  },
  "orig_nbformat": 4,
  "vscode": {
   "interpreter": {
    "hash": "aee8b7b246df8f9039afb4144a1f6fd8d2ca17a180786b69acc140d282b71a49"
   }
  }
 },
 "nbformat": 4,
 "nbformat_minor": 2
}
